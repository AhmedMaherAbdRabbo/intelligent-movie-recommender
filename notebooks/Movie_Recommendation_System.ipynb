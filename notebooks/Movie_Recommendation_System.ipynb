{
  "cells": [
    {
      "cell_type": "markdown",
      "metadata": {
        "id": "GViHeNokZMCR"
      },
      "source": [
        "## Import Libraries"
      ]
    },
    {
      "cell_type": "code",
      "execution_count": 2,
      "metadata": {
        "id": "9b98pHHkKptd"
      },
      "outputs": [],
      "source": [
        "import pandas as pd\n",
        "import numpy as np\n",
        "import matplotlib.pyplot as plt\n",
        "import seaborn as sns\n",
        "from sklearn.feature_extraction.text import TfidfVectorizer\n",
        "from sklearn.metrics.pairwise import cosine_similarity\n",
        "from sklearn.metrics import mean_squared_error, mean_absolute_error\n",
        "import re\n",
        "import warnings\n",
        "warnings.filterwarnings('ignore')"
      ]
    },
    {
      "cell_type": "markdown",
      "metadata": {
        "id": "FvmKKjQhZIjs"
      },
      "source": [
        "## Load and Explore Data"
      ]
    },
    {
      "cell_type": "code",
      "execution_count": 3,
      "metadata": {
        "id": "XpZ5grvEYZE8"
      },
      "outputs": [],
      "source": [
        "movies = pd.read_csv(\"movies.csv\")\n",
        "ratings = pd.read_csv(\"ratings.csv\")"
      ]
    },
    {
      "cell_type": "code",
      "execution_count": 4,
      "metadata": {
        "colab": {
          "base_uri": "https://localhost:8080/"
        },
        "id": "2hX8fWNlYZCM",
        "outputId": "fc915b7a-aa91-40ca-9565-964a2593f367"
      },
      "outputs": [
        {
          "name": "stdout",
          "output_type": "stream",
          "text": [
            "Movies Dataset Shape: (62423, 3)\n",
            "Ratings Dataset Shape: (25000095, 4)\n"
          ]
        }
      ],
      "source": [
        "print(\"Movies Dataset Shape:\", movies.shape)\n",
        "print(\"Ratings Dataset Shape:\", ratings.shape)"
      ]
    },
    {
      "cell_type": "code",
      "execution_count": 5,
      "metadata": {
        "colab": {
          "base_uri": "https://localhost:8080/",
          "height": 206
        },
        "id": "FGz0dJ3QYY_O",
        "outputId": "7a0a1551-3699-4243-bc05-dacd8aaa8a4d"
      },
      "outputs": [
        {
          "data": {
            "text/html": [
              "<div>\n",
              "<style scoped>\n",
              "    .dataframe tbody tr th:only-of-type {\n",
              "        vertical-align: middle;\n",
              "    }\n",
              "\n",
              "    .dataframe tbody tr th {\n",
              "        vertical-align: top;\n",
              "    }\n",
              "\n",
              "    .dataframe thead th {\n",
              "        text-align: right;\n",
              "    }\n",
              "</style>\n",
              "<table border=\"1\" class=\"dataframe\">\n",
              "  <thead>\n",
              "    <tr style=\"text-align: right;\">\n",
              "      <th></th>\n",
              "      <th>movieId</th>\n",
              "      <th>title</th>\n",
              "      <th>genres</th>\n",
              "    </tr>\n",
              "  </thead>\n",
              "  <tbody>\n",
              "    <tr>\n",
              "      <th>0</th>\n",
              "      <td>1</td>\n",
              "      <td>Toy Story (1995)</td>\n",
              "      <td>Adventure|Animation|Children|Comedy|Fantasy</td>\n",
              "    </tr>\n",
              "    <tr>\n",
              "      <th>1</th>\n",
              "      <td>2</td>\n",
              "      <td>Jumanji (1995)</td>\n",
              "      <td>Adventure|Children|Fantasy</td>\n",
              "    </tr>\n",
              "    <tr>\n",
              "      <th>2</th>\n",
              "      <td>3</td>\n",
              "      <td>Grumpier Old Men (1995)</td>\n",
              "      <td>Comedy|Romance</td>\n",
              "    </tr>\n",
              "    <tr>\n",
              "      <th>3</th>\n",
              "      <td>4</td>\n",
              "      <td>Waiting to Exhale (1995)</td>\n",
              "      <td>Comedy|Drama|Romance</td>\n",
              "    </tr>\n",
              "    <tr>\n",
              "      <th>4</th>\n",
              "      <td>5</td>\n",
              "      <td>Father of the Bride Part II (1995)</td>\n",
              "      <td>Comedy</td>\n",
              "    </tr>\n",
              "  </tbody>\n",
              "</table>\n",
              "</div>"
            ],
            "text/plain": [
              "   movieId                               title  \\\n",
              "0        1                    Toy Story (1995)   \n",
              "1        2                      Jumanji (1995)   \n",
              "2        3             Grumpier Old Men (1995)   \n",
              "3        4            Waiting to Exhale (1995)   \n",
              "4        5  Father of the Bride Part II (1995)   \n",
              "\n",
              "                                        genres  \n",
              "0  Adventure|Animation|Children|Comedy|Fantasy  \n",
              "1                   Adventure|Children|Fantasy  \n",
              "2                               Comedy|Romance  \n",
              "3                         Comedy|Drama|Romance  \n",
              "4                                       Comedy  "
            ]
          },
          "execution_count": 5,
          "metadata": {},
          "output_type": "execute_result"
        }
      ],
      "source": [
        "movies.head()"
      ]
    },
    {
      "cell_type": "code",
      "execution_count": 6,
      "metadata": {
        "colab": {
          "base_uri": "https://localhost:8080/",
          "height": 206
        },
        "id": "YO4KskTYYY8W",
        "outputId": "33ab5d39-fdb3-40a2-e6cd-199c255808c7"
      },
      "outputs": [
        {
          "data": {
            "text/html": [
              "<div>\n",
              "<style scoped>\n",
              "    .dataframe tbody tr th:only-of-type {\n",
              "        vertical-align: middle;\n",
              "    }\n",
              "\n",
              "    .dataframe tbody tr th {\n",
              "        vertical-align: top;\n",
              "    }\n",
              "\n",
              "    .dataframe thead th {\n",
              "        text-align: right;\n",
              "    }\n",
              "</style>\n",
              "<table border=\"1\" class=\"dataframe\">\n",
              "  <thead>\n",
              "    <tr style=\"text-align: right;\">\n",
              "      <th></th>\n",
              "      <th>userId</th>\n",
              "      <th>movieId</th>\n",
              "      <th>rating</th>\n",
              "      <th>timestamp</th>\n",
              "    </tr>\n",
              "  </thead>\n",
              "  <tbody>\n",
              "    <tr>\n",
              "      <th>0</th>\n",
              "      <td>1</td>\n",
              "      <td>296</td>\n",
              "      <td>5.0</td>\n",
              "      <td>1147880044</td>\n",
              "    </tr>\n",
              "    <tr>\n",
              "      <th>1</th>\n",
              "      <td>1</td>\n",
              "      <td>306</td>\n",
              "      <td>3.5</td>\n",
              "      <td>1147868817</td>\n",
              "    </tr>\n",
              "    <tr>\n",
              "      <th>2</th>\n",
              "      <td>1</td>\n",
              "      <td>307</td>\n",
              "      <td>5.0</td>\n",
              "      <td>1147868828</td>\n",
              "    </tr>\n",
              "    <tr>\n",
              "      <th>3</th>\n",
              "      <td>1</td>\n",
              "      <td>665</td>\n",
              "      <td>5.0</td>\n",
              "      <td>1147878820</td>\n",
              "    </tr>\n",
              "    <tr>\n",
              "      <th>4</th>\n",
              "      <td>1</td>\n",
              "      <td>899</td>\n",
              "      <td>3.5</td>\n",
              "      <td>1147868510</td>\n",
              "    </tr>\n",
              "  </tbody>\n",
              "</table>\n",
              "</div>"
            ],
            "text/plain": [
              "   userId  movieId  rating   timestamp\n",
              "0       1      296     5.0  1147880044\n",
              "1       1      306     3.5  1147868817\n",
              "2       1      307     5.0  1147868828\n",
              "3       1      665     5.0  1147878820\n",
              "4       1      899     3.5  1147868510"
            ]
          },
          "execution_count": 6,
          "metadata": {},
          "output_type": "execute_result"
        }
      ],
      "source": [
        "ratings.head()"
      ]
    },
    {
      "cell_type": "markdown",
      "metadata": {
        "id": "H8R32yKFYuiW"
      },
      "source": [
        "## Data Preprocessing"
      ]
    },
    {
      "cell_type": "code",
      "execution_count": 7,
      "metadata": {
        "id": "zh4FTNZAYtj1"
      },
      "outputs": [],
      "source": [
        "def clean_title(title):\n",
        "    return re.sub(\"[^a-zA-Z0-9 ]\", \"\", title)"
      ]
    },
    {
      "cell_type": "code",
      "execution_count": 8,
      "metadata": {
        "id": "RdP6DDmeYtg1"
      },
      "outputs": [],
      "source": [
        "# Process movies data\n",
        "movies_clean = movies.copy()\n",
        "movies_clean['title'] = movies_clean['title'].apply(clean_title)\n",
        "movies_clean['genres'] = movies_clean['genres'].str.split('|')"
      ]
    },
    {
      "cell_type": "code",
      "execution_count": 9,
      "metadata": {
        "id": "gwxkDRurYtYn"
      },
      "outputs": [],
      "source": [
        "movies_clean = movies_clean[~movies_clean['genres'].apply(lambda x: '(no genres listed)' in x)]"
      ]
    },
    {
      "cell_type": "code",
      "execution_count": 10,
      "metadata": {
        "id": "gx9bdBJ2YtVZ"
      },
      "outputs": [],
      "source": [
        "movies_clean['genres_text'] = movies_clean['genres'].apply(lambda x: ' '.join(x))"
      ]
    },
    {
      "cell_type": "code",
      "execution_count": 11,
      "metadata": {
        "id": "D7yRjVxHZBRv"
      },
      "outputs": [],
      "source": [
        "ratings_clean = ratings.drop(['timestamp'], axis=1)"
      ]
    },
    {
      "cell_type": "code",
      "execution_count": 12,
      "metadata": {
        "colab": {
          "base_uri": "https://localhost:8080/"
        },
        "id": "iX0kmxlCZD7q",
        "outputId": "8d1cdee9-d8db-499a-dd76-d6dc20bc87a3"
      },
      "outputs": [
        {
          "name": "stdout",
          "output_type": "stream",
          "text": [
            "Clean Movies Dataset: 57361 movies\n",
            "Clean Ratings Dataset: 25000095 ratings\n",
            "Unique Users: 162541\n"
          ]
        }
      ],
      "source": [
        "print(f\"Clean Movies Dataset: {movies_clean.shape[0]} movies\")\n",
        "print(f\"Clean Ratings Dataset: {ratings_clean.shape[0]} ratings\")\n",
        "print(f\"Unique Users: {ratings_clean['userId'].nunique()}\")"
      ]
    },
    {
      "cell_type": "markdown",
      "metadata": {
        "id": "_TBIE7HeZQ87"
      },
      "source": [
        "## Exploratory Data Analysis"
      ]
    },
    {
      "cell_type": "code",
      "execution_count": 13,
      "metadata": {
        "colab": {
          "base_uri": "https://localhost:8080/",
          "height": 607
        },
        "id": "Bh_O7HqKZUvV",
        "outputId": "6035845e-05c6-4d34-e1a4-944d50131852"
      },
      "outputs": [
        {
          "data": {
            "image/png": "[encoded data removed]",
            "text/plain": [
              "<Figure size 1000x600 with 1 Axes>"
            ]
          },
          "metadata": {},
          "output_type": "display_data"
        }
      ],
      "source": [
        "plt.figure(figsize=(10, 6))\n",
        "ratings_clean['rating'].hist(bins=10, color='skyblue', alpha=0.7)\n",
        "plt.title('Rating Distribution')\n",
        "plt.xlabel('Rating')\n",
        "plt.ylabel('Frequency')\n",
        "plt.tight_layout()\n",
        "plt.show()"
      ]
    },
    {
      "cell_type": "code",
      "execution_count": 14,
      "metadata": {
        "colab": {
          "base_uri": "https://localhost:8080/",
          "height": 607
        },
        "id": "N83VelUZZdPb",
        "outputId": "e24075ee-99a5-4071-ec93-e56e1376ae84"
      },
      "outputs": [
        {
          "data": {
            "image/png": "[encoded data removed]",
            "text/plain": [
              "<Figure size 1000x600 with 1 Axes>"
            ]
          },
          "metadata": {},
          "output_type": "display_data"
        }
      ],
      "source": [
        "plt.figure(figsize=(10, 6))\n",
        "all_genres = [genre for genres_list in movies_clean['genres'] for genre in genres_list]\n",
        "genre_counts = pd.Series(all_genres).value_counts().head(10)\n",
        "genre_counts.plot(kind='bar', color='lightcoral')\n",
        "plt.title('Top 10 Genres')\n",
        "plt.xlabel('Genre')\n",
        "plt.ylabel('Count')\n",
        "plt.xticks(rotation=45)\n",
        "plt.tight_layout()\n",
        "plt.show()"
      ]
    },
    {
      "cell_type": "markdown",
      "metadata": {
        "id": "bUiDxx5rZq7f"
      },
      "source": [
        "## Create Combined Dataset"
      ]
    },
    {
      "cell_type": "code",
      "execution_count": 15,
      "metadata": {
        "colab": {
          "base_uri": "https://localhost:8080/"
        },
        "id": "sTDrVYoFZuMh",
        "outputId": "799cedeb-d6f7-470a-d6b3-911b54e7eb57"
      },
      "outputs": [
        {
          "name": "stdout",
          "output_type": "stream",
          "text": [
            "Combined Dataset Shape: (24973468, 5)\n"
          ]
        }
      ],
      "source": [
        "combined_data = ratings_clean.merge(movies_clean[['movieId', 'title', 'genres_text']], on='movieId')\n",
        "print(\"Combined Dataset Shape:\", combined_data.shape)"
      ]
    },
    {
      "cell_type": "code",
      "execution_count": 16,
      "metadata": {
        "colab": {
          "base_uri": "https://localhost:8080/",
          "height": 206
        },
        "id": "cF0YtQ5hZzvo",
        "outputId": "1c3072be-826e-4a7b-b3b9-354a4dbde18a"
      },
      "outputs": [
        {
          "data": {
            "text/html": [
              "<div>\n",
              "<style scoped>\n",
              "    .dataframe tbody tr th:only-of-type {\n",
              "        vertical-align: middle;\n",
              "    }\n",
              "\n",
              "    .dataframe tbody tr th {\n",
              "        vertical-align: top;\n",
              "    }\n",
              "\n",
              "    .dataframe thead th {\n",
              "        text-align: right;\n",
              "    }\n",
              "</style>\n",
              "<table border=\"1\" class=\"dataframe\">\n",
              "  <thead>\n",
              "    <tr style=\"text-align: right;\">\n",
              "      <th></th>\n",
              "      <th>userId</th>\n",
              "      <th>movieId</th>\n",
              "      <th>rating</th>\n",
              "      <th>title</th>\n",
              "      <th>genres_text</th>\n",
              "    </tr>\n",
              "  </thead>\n",
              "  <tbody>\n",
              "    <tr>\n",
              "      <th>0</th>\n",
              "      <td>1</td>\n",
              "      <td>296</td>\n",
              "      <td>5.0</td>\n",
              "      <td>Pulp Fiction 1994</td>\n",
              "      <td>Comedy Crime Drama Thriller</td>\n",
              "    </tr>\n",
              "    <tr>\n",
              "      <th>1</th>\n",
              "      <td>1</td>\n",
              "      <td>306</td>\n",
              "      <td>3.5</td>\n",
              "      <td>Three Colors Red Trois couleurs Rouge 1994</td>\n",
              "      <td>Drama</td>\n",
              "    </tr>\n",
              "    <tr>\n",
              "      <th>2</th>\n",
              "      <td>1</td>\n",
              "      <td>307</td>\n",
              "      <td>5.0</td>\n",
              "      <td>Three Colors Blue Trois couleurs Bleu 1993</td>\n",
              "      <td>Drama</td>\n",
              "    </tr>\n",
              "    <tr>\n",
              "      <th>3</th>\n",
              "      <td>1</td>\n",
              "      <td>665</td>\n",
              "      <td>5.0</td>\n",
              "      <td>Underground 1995</td>\n",
              "      <td>Comedy Drama War</td>\n",
              "    </tr>\n",
              "    <tr>\n",
              "      <th>4</th>\n",
              "      <td>1</td>\n",
              "      <td>899</td>\n",
              "      <td>3.5</td>\n",
              "      <td>Singin in the Rain 1952</td>\n",
              "      <td>Comedy Musical Romance</td>\n",
              "    </tr>\n",
              "  </tbody>\n",
              "</table>\n",
              "</div>"
            ],
            "text/plain": [
              "   userId  movieId  rating                                       title  \\\n",
              "0       1      296     5.0                           Pulp Fiction 1994   \n",
              "1       1      306     3.5  Three Colors Red Trois couleurs Rouge 1994   \n",
              "2       1      307     5.0  Three Colors Blue Trois couleurs Bleu 1993   \n",
              "3       1      665     5.0                            Underground 1995   \n",
              "4       1      899     3.5                     Singin in the Rain 1952   \n",
              "\n",
              "                   genres_text  \n",
              "0  Comedy Crime Drama Thriller  \n",
              "1                        Drama  \n",
              "2                        Drama  \n",
              "3             Comedy Drama War  \n",
              "4       Comedy Musical Romance  "
            ]
          },
          "execution_count": 16,
          "metadata": {},
          "output_type": "execute_result"
        }
      ],
      "source": [
        "combined_data.head()"
      ]
    },
    {
      "cell_type": "markdown",
      "metadata": {
        "id": "iikRMUtCZ5O2"
      },
      "source": [
        "## Content-Based Recommendation System"
      ]
    },
    {
      "cell_type": "code",
      "execution_count": 17,
      "metadata": {
        "id": "zY0VC76JZ6m9"
      },
      "outputs": [],
      "source": [
        "class ContentBasedRecommender:\n",
        "    def __init__(self, movies_data):\n",
        "        self.movies_data = movies_data\n",
        "        self.setup_vectorizers()\n",
        "\n",
        "    def setup_vectorizers(self):\n",
        "        # Title-based vectorizer\n",
        "        self.title_vectorizer = TfidfVectorizer(ngram_range=(1,2), stop_words='english')\n",
        "        self.title_tfidf = self.title_vectorizer.fit_transform(self.movies_data['title'])\n",
        "\n",
        "        # Genre-based vectorizer\n",
        "        self.genre_vectorizer = TfidfVectorizer(ngram_range=(1,2))\n",
        "        self.genre_tfidf = self.genre_vectorizer.fit_transform(self.movies_data['genres_text'])\n",
        "\n",
        "    def search_by_title(self, title, top_n=5):\n",
        "        title = clean_title(title)\n",
        "        query_vec = self.title_vectorizer.transform([title])\n",
        "        similarity = cosine_similarity(query_vec, self.title_tfidf).flatten()\n",
        "        indices = np.argpartition(similarity, -top_n)[-top_n:]\n",
        "        results = self.movies_data.iloc[indices][::-1]\n",
        "        return results[['movieId', 'title', 'genres']]\n",
        "\n",
        "    def recommend_by_genre(self, genres_text, top_n=10):\n",
        "        query_vec = self.genre_vectorizer.transform([genres_text])\n",
        "        similarity = cosine_similarity(query_vec, self.genre_tfidf).flatten()\n",
        "        indices = np.argpartition(similarity, -top_n)[-top_n:]\n",
        "        results = self.movies_data.iloc[indices][::-1]\n",
        "        return results[['movieId', 'title', 'genres']]"
      ]
    },
    {
      "cell_type": "code",
      "execution_count": 18,
      "metadata": {
        "id": "D0gK1FPTZ6jm"
      },
      "outputs": [],
      "source": [
        "content_recommender = ContentBasedRecommender(movies_clean)"
      ]
    },
    {
      "cell_type": "markdown",
      "metadata": {
        "id": "sfL25nF2aG5H"
      },
      "source": [
        "## Collaborative Filtering Recommendation System"
      ]
    },
    {
      "cell_type": "code",
      "execution_count": 19,
      "metadata": {
        "id": "cQmq6eieZ6hF"
      },
      "outputs": [],
      "source": [
        "class CollaborativeRecommender:\n",
        "    def __init__(self, combined_data):\n",
        "        self.combined_data = combined_data\n",
        "        self.movies_data = combined_data[['movieId', 'title', 'genres_text']].drop_duplicates()\n",
        "\n",
        "    def get_user_similarity_scores(self, movie_id, min_rating=4.0):\n",
        "        # Find users who rated this movie highly\n",
        "        similar_users = self.combined_data[\n",
        "            (self.combined_data['movieId'] == movie_id) &\n",
        "            (self.combined_data['rating'] >= min_rating)\n",
        "        ]['userId'].unique()\n",
        "\n",
        "        if len(similar_users) == 0:\n",
        "            return pd.Series(dtype=float)\n",
        "\n",
        "        # Get movies these users also liked\n",
        "        similar_user_movies = self.combined_data[\n",
        "            (self.combined_data['userId'].isin(similar_users)) &\n",
        "            (self.combined_data['rating'] >= min_rating)\n",
        "        ]['movieId'].value_counts(normalize=True)\n",
        "\n",
        "        # Get general popularity of these movies\n",
        "        all_user_movies = self.combined_data[\n",
        "            (self.combined_data['movieId'].isin(similar_user_movies.index)) &\n",
        "            (self.combined_data['rating'] >= min_rating)\n",
        "        ]['movieId'].value_counts(normalize=True)\n",
        "\n",
        "        # Calculate recommendation score\n",
        "        scores = pd.DataFrame({\n",
        "            'similar_users': similar_user_movies,\n",
        "            'all_users': all_user_movies\n",
        "        }).fillna(0)\n",
        "\n",
        "        scores['recommendation_score'] = np.where(\n",
        "            scores['all_users'] > 0,\n",
        "            scores['similar_users'] / scores['all_users'],\n",
        "            0\n",
        "        )\n",
        "\n",
        "        return scores['recommendation_score'].sort_values(ascending=False)\n",
        "\n",
        "    def recommend_movies(self, movie_title, top_n=10):\n",
        "        movie_matches = content_recommender.search_by_title(movie_title, 1)\n",
        "        if movie_matches.empty:\n",
        "            return pd.DataFrame()\n",
        "\n",
        "        movie_id = movie_matches.iloc[0]['movieId']\n",
        "        scores = self.get_user_similarity_scores(movie_id)\n",
        "        if scores.empty:\n",
        "            return pd.DataFrame()\n",
        "\n",
        "        recommendations = scores.head(top_n).reset_index()\n",
        "        recommendations.columns = ['movieId', 'score']\n",
        "        recommendations = recommendations.merge(self.movies_data, on='movieId')\n",
        "\n",
        "        return recommendations[['title', 'genres_text', 'score']].round(4)"
      ]
    },
    {
      "cell_type": "code",
      "execution_count": 20,
      "metadata": {
        "id": "I_olR8tnZ6ew"
      },
      "outputs": [],
      "source": [
        "collab_recommender = CollaborativeRecommender(combined_data)"
      ]
    },
    {
      "cell_type": "markdown",
      "metadata": {
        "id": "ISKmCgpgadR1"
      },
      "source": [
        "## Hybrid Recommendation System"
      ]
    },
    {
      "cell_type": "code",
      "execution_count": 21,
      "metadata": {
        "id": "u9bazIwbaaNj"
      },
      "outputs": [],
      "source": [
        "class HybridRecommender:\n",
        "    def __init__(self, content_recommender, collab_recommender, combined_data):\n",
        "        self.content_rec = content_recommender\n",
        "        self.collab_rec = collab_recommender\n",
        "        self.combined_data = combined_data\n",
        "\n",
        "    def hybrid_recommend(self, movie_title, top_n=10, content_weight=0.3, collab_weight=0.7):\n",
        "        movie_matches = self.content_rec.search_by_title(movie_title, 1)\n",
        "        if movie_matches.empty:\n",
        "            print(f\"No movie found matching '{movie_title}'\")\n",
        "            return pd.DataFrame()\n",
        "\n",
        "        movie_id = movie_matches.iloc[0]['movieId']\n",
        "        selected_movie = movie_matches.iloc[0]\n",
        "\n",
        "        print(f\"Selected Movie: {selected_movie['title']}\")\n",
        "        print(f\"Genres: {', '.join(selected_movie['genres'])}\")\n",
        "        print(\"-\" * 50)\n",
        "\n",
        "        genres_text = ' '.join(selected_movie['genres'])\n",
        "        content_recs = self.content_rec.recommend_by_genre(genres_text, top_n*2)\n",
        "        content_scores = pd.DataFrame({\n",
        "            'movieId': content_recs['movieId'],\n",
        "            'content_score': np.linspace(1.0, 0.1, len(content_recs))\n",
        "        })\n",
        "\n",
        "        collab_scores = self.collab_rec.get_user_similarity_scores(movie_id)\n",
        "        if not collab_scores.empty:\n",
        "            collab_df = pd.DataFrame({\n",
        "                'movieId': collab_scores.index,\n",
        "                'collab_score': collab_scores.values\n",
        "            })\n",
        "        else:\n",
        "            collab_df = pd.DataFrame(columns=['movieId', 'collab_score'])\n",
        "\n",
        "        all_movies = pd.merge(content_scores, collab_df, on='movieId', how='outer').fillna(0)\n",
        "        all_movies['hybrid_score'] = (\n",
        "            content_weight * all_movies['content_score'] +\n",
        "            collab_weight * all_movies['collab_score']\n",
        "        )\n",
        "\n",
        "        top_recommendations = all_movies.nlargest(top_n, 'hybrid_score')\n",
        "\n",
        "        movies_info = self.combined_data[['movieId', 'title', 'genres_text']].drop_duplicates()\n",
        "        results = top_recommendations.merge(movies_info, on='movieId')\n",
        "\n",
        "        results = results[results['movieId'] != movie_id]\n",
        "\n",
        "        return results[['title', 'genres_text', 'hybrid_score', 'content_score', 'collab_score']].head(top_n)"
      ]
    },
    {
      "cell_type": "code",
      "execution_count": 22,
      "metadata": {
        "id": "UgHE3dMCaaKK"
      },
      "outputs": [],
      "source": [
        "hybrid_recommender = HybridRecommender(content_recommender, collab_recommender, combined_data)"
      ]
    },
    {
      "cell_type": "markdown",
      "metadata": {
        "id": "DaSgPeOdbGlT"
      },
      "source": [
        "## Test Recommendation Systems"
      ]
    },
    {
      "cell_type": "code",
      "execution_count": 23,
      "metadata": {
        "colab": {
          "base_uri": "https://localhost:8080/"
        },
        "id": "v5rWNJmtaaHc",
        "outputId": "197a75e5-99a3-4ff4-d058-0374e9f2cc0e"
      },
      "outputs": [
        {
          "name": "stdout",
          "output_type": "stream",
          "text": [
            "MOVIE RECOMMENDATIONS FOR: 'Toy Story'\n",
            "------------------------------------------------------------\n",
            "\n",
            "CONTENT-BASED RECOMMENDATIONS:\n",
            "1. Ant Bully The 2006 - Adventure, Animation, Children, Comedy, Fantasy, IMAX\n",
            "2. Shrek Forever After aka Shrek The Final Chapter 2010 - Adventure, Animation, Children, Comedy, Fantasy, IMAX\n",
            "3. Toy Story 3 2010 - Adventure, Animation, Children, Comedy, Fantasy, IMAX\n",
            "4. Rise of the Guardians 2012 - Adventure, Animation, Children, Fantasy, IMAX\n",
            "5. Polar Express The 2004 - Adventure, Animation, Children, Fantasy, IMAX\n",
            "\n",
            "COLLABORATIVE FILTERING RECOMMENDATIONS:\n",
            "1. Adrenalin The BMW Touring Car Story 2014 (Score: 7.158) - Documentary\n",
            "2. The House Where Evil Dwells 1982 (Score: 7.158) - Horror\n",
            "3. The Man in the Raincoat 1957 (Score: 7.158) - Comedy Mystery\n",
            "4. Diaboliquement vtre 1967 (Score: 7.158) - Crime Drama Thriller\n",
            "5. King 2008 (Score: 7.158) - Action Comedy Crime Documentary\n",
            "\n",
            "HYBRID RECOMMENDATIONS:\n",
            "Selected Movie: Toy Story 3 2010\n",
            "Genres: Adventure, Animation, Children, Comedy, Fantasy, IMAX\n",
            "--------------------------------------------------\n",
            "1. Downhill 1927 (Score: 5.011) - Drama\n",
            "2. Pleasure Garden The 1925 (Score: 5.011) - Drama\n",
            "3. Big Fella 1937 (Score: 5.011) - Drama Musical\n",
            "4. Boricuas Bond 2000 (Score: 5.011) - Drama\n",
            "\n",
            "================================================================================\n",
            "\n",
            "MOVIE RECOMMENDATIONS FOR: 'The Matrix'\n",
            "------------------------------------------------------------\n",
            "\n",
            "CONTENT-BASED RECOMMENDATIONS:\n",
            "1. Scifighters 1996 - Action, Sci-Fi, Thriller\n",
            "2. Yakuza Weapon 2011 - Action, Sci-Fi, Thriller\n",
            "3. Thirst 2016 - Action, Sci-Fi, Thriller\n",
            "4. eXistenZ 1999 - Action, Sci-Fi, Thriller\n",
            "5. Virtuosity 1995 - Action, Sci-Fi, Thriller\n",
            "\n",
            "COLLABORATIVE FILTERING RECOMMENDATIONS:\n",
            "1. Bad Poems 2018 (Score: 1.770) - Comedy Drama\n",
            "2. Nimporte Qui 2014 (Score: 1.770) - Comedy\n",
            "3. Limited Partnership 2014 (Score: 1.770) - Documentary\n",
            "4. ing 2003 (Score: 1.770) - Drama Romance\n",
            "5. For Elise 2013 (Score: 1.770) - Horror Mystery\n",
            "\n",
            "HYBRID RECOMMENDATIONS:\n",
            "Selected Movie: Matrix The 1999\n",
            "Genres: Action, Sci-Fi, Thriller\n",
            "--------------------------------------------------\n",
            "1. Nemesis 3 Time Lapse 1996 (Score: 1.389) - Action Sci-Fi Thriller\n",
            "2. Nemesis 4 Death Angel 1996 (Score: 1.329) - Action Sci-Fi Thriller\n",
            "3. Two Crimes Dos crmenes 1995 (Score: 1.239) - Comedy Crime Drama\n",
            "4. Last Call Hoogste tijd 1995 (Score: 1.239) - Drama\n",
            "5. Guy 1997 (Score: 1.239) - Drama\n",
            "\n",
            "================================================================================\n",
            "\n",
            "MOVIE RECOMMENDATIONS FOR: 'Titanic'\n",
            "------------------------------------------------------------\n",
            "\n",
            "CONTENT-BASED RECOMMENDATIONS:\n",
            "1. Into the Blue 2 The Reef 2009 - Action, Adventure, Thriller\n",
            "2. Licence to Kill 1989 - Action, Adventure, Thriller\n",
            "3. Con Air 1997 - Action, Adventure, Thriller\n",
            "4. Contract Killers 2009 - Action, Adventure, Thriller\n",
            "5. For Your Eyes Only 1981 - Action, Adventure, Thriller\n",
            "\n",
            "COLLABORATIVE FILTERING RECOMMENDATIONS:\n",
            "No collaborative recommendations available\n",
            "\n",
            "HYBRID RECOMMENDATIONS:\n",
            "Selected Movie: Titanic 2 2010\n",
            "Genres: Action, Adventure, Thriller\n",
            "--------------------------------------------------\n",
            "1. Into the Blue 2 The Reef 2009 (Score: 0.300) - Action Adventure Thriller\n",
            "2. For Your Eyes Only 1981 (Score: 0.270) - Action Adventure Thriller\n",
            "3. Contract Killers 2009 (Score: 0.240) - Action Adventure Thriller\n",
            "4. Licence to Kill 1989 (Score: 0.210) - Action Adventure Thriller\n",
            "5. Con Air 1997 (Score: 0.180) - Action Adventure Thriller\n",
            "\n",
            "================================================================================\n",
            "\n",
            "MOVIE RECOMMENDATIONS FOR: 'Star Wars'\n",
            "------------------------------------------------------------\n",
            "\n",
            "CONTENT-BASED RECOMMENDATIONS:\n",
            "1. Polish Legends Jaga 2016 - Sci-Fi\n",
            "2. PLURALITY 2012 - Sci-Fi\n",
            "3. Shape of Things to Come The 1979 - Sci-Fi\n",
            "4. The Late Night Double Feature 2014 - Sci-Fi\n",
            "5. The Sparkling World 1984 - Sci-Fi\n",
            "\n",
            "COLLABORATIVE FILTERING RECOMMENDATIONS:\n",
            "1. Star Wars Dresca (Score: 11363.333) - Sci-Fi\n",
            "2. Star Wars Downunder 2013 (Score: 11363.333) - Sci-Fi\n",
            "3. Star Wars The Legacy Revealed 2007 (Score: 3787.778) - Documentary\n",
            "4. Star Trek Of Gods and Men 2007 (Score: 874.103) - Action Adventure Sci-Fi\n",
            "5. The Star Wars Holiday Special 1978 (Score: 811.667) - Adventure Children Comedy Sci-Fi\n",
            "\n",
            "HYBRID RECOMMENDATIONS:\n",
            "Selected Movie: Star Wars Dresca\n",
            "Genres: Sci-Fi\n",
            "--------------------------------------------------\n",
            "1. Star Wars Downunder 2013 (Score: 7954.333) - Sci-Fi\n",
            "2. Star Wars The Legacy Revealed 2007 (Score: 2651.444) - Documentary\n",
            "3. Star Trek Of Gods and Men 2007 (Score: 611.872) - Action Adventure Sci-Fi\n",
            "4. The Star Wars Holiday Special 1978 (Score: 568.167) - Adventure Children Comedy Sci-Fi\n",
            "\n",
            "================================================================================\n",
            "\n"
          ]
        }
      ],
      "source": [
        "def test_recommendations(movie_title):\n",
        "    print(f\"MOVIE RECOMMENDATIONS FOR: '{movie_title}'\")\n",
        "    print(\"-\" * 60)\n",
        "\n",
        "    # Content-based\n",
        "    print(\"\\nCONTENT-BASED RECOMMENDATIONS:\")\n",
        "    movie_matches = content_recommender.search_by_title(movie_title, 1)\n",
        "    if not movie_matches.empty:\n",
        "        selected_movie = movie_matches.iloc[0]\n",
        "        genres_text = ' '.join(selected_movie['genres'])\n",
        "        content_recs = content_recommender.recommend_by_genre(genres_text, 5)\n",
        "        for i, (_, movie) in enumerate(content_recs.iterrows(), 1):\n",
        "            print(f\"{i}. {movie['title']} - {', '.join(movie['genres'])}\")\n",
        "    else:\n",
        "        print(\"No content-based recommendations available\")\n",
        "\n",
        "    # Collaborative\n",
        "    print(\"\\nCOLLABORATIVE FILTERING RECOMMENDATIONS:\")\n",
        "    collab_recs = collab_recommender.recommend_movies(movie_title, 5)\n",
        "    if not collab_recs.empty:\n",
        "        for i, (_, movie) in enumerate(collab_recs.iterrows(), 1):\n",
        "            print(f\"{i}. {movie['title']} (Score: {movie['score']:.3f}) - {movie['genres_text']}\")\n",
        "    else:\n",
        "        print(\"No collaborative recommendations available\")\n",
        "\n",
        "    # Hybrid\n",
        "    print(\"\\nHYBRID RECOMMENDATIONS:\")\n",
        "    hybrid_recs = hybrid_recommender.hybrid_recommend(movie_title, 5)\n",
        "    if not hybrid_recs.empty:\n",
        "        for i, (_, movie) in enumerate(hybrid_recs.iterrows(), 1):\n",
        "            print(f\"{i}. {movie['title']} (Score: {movie['hybrid_score']:.3f}) - {movie['genres_text']}\")\n",
        "    else:\n",
        "        print(\"No hybrid recommendations available\")\n",
        "\n",
        "\n",
        "# Test\n",
        "test_movies = [\"Toy Story\", \"The Matrix\", \"Titanic\", \"Star Wars\"]\n",
        "for movie in test_movies:\n",
        "    test_recommendations(movie)\n",
        "    print(\"\\n\" + \"=\"*80 + \"\\n\")\n"
      ]
    },
    {
      "cell_type": "markdown",
      "metadata": {
        "id": "eJ9sYPUybot-"
      },
      "source": [
        "## Evaluation Metrics"
      ]
    },
    {
      "cell_type": "code",
      "execution_count": 24,
      "metadata": {
        "colab": {
          "base_uri": "https://localhost:8080/"
        },
        "id": "cB7wM3oFb1f0",
        "outputId": "658ec46e-b7af-4319-d1d7-8b31ab4efc1f"
      },
      "outputs": [
        {
          "name": "stdout",
          "output_type": "stream",
          "text": [
            "RECOMMENDATION SYSTEM EVALUATION\n",
            "==================================================\n",
            "DATASET STATISTICS:\n",
            "Total Movies: 57,361\n",
            "Total Ratings: 25,000,095\n",
            "Total Users: 162,541\n",
            "Average Rating: 3.53\n",
            "Rating Range: 0.5 - 5.0\n",
            "Total Genres: 19\n",
            "\n",
            "MOVIE POPULARITY:\n",
            "Movies with 1 rating: 8,458\n",
            "Movies with 10+ ratings: 24,010\n",
            "Movies with 100+ ratings: 10,303\n",
            "\n",
            "USER ACTIVITY:\n",
            "Users with 1 rating: 0\n",
            "Users with 10+ ratings: 162,541\n",
            "Users with 100+ ratings: 63,880\n"
          ]
        }
      ],
      "source": [
        "def evaluate_recommendations():\n",
        "    print(\"RECOMMENDATION SYSTEM EVALUATION\")\n",
        "    print(\"=\" * 50)\n",
        "\n",
        "    # Dataset statistics\n",
        "    print(\"DATASET STATISTICS:\")\n",
        "    print(f\"Total Movies: {movies_clean.shape[0]:,}\")\n",
        "    print(f\"Total Ratings: {ratings_clean.shape[0]:,}\")\n",
        "    print(f\"Total Users: {ratings_clean['userId'].nunique():,}\")\n",
        "    print(f\"Average Rating: {ratings_clean['rating'].mean():.2f}\")\n",
        "    print(f\"Rating Range: {ratings_clean['rating'].min():.1f} - {ratings_clean['rating'].max():.1f}\")\n",
        "\n",
        "    all_genres = set([genre for genres_list in movies_clean['genres'] for genre in genres_list])\n",
        "    print(f\"Total Genres: {len(all_genres)}\")\n",
        "\n",
        "    # Movie popularity\n",
        "    movie_rating_counts = combined_data.groupby('movieId')['rating'].count()\n",
        "    print(\"\\nMOVIE POPULARITY:\")\n",
        "    print(f\"Movies with 1 rating: {(movie_rating_counts == 1).sum():,}\")\n",
        "    print(f\"Movies with 10+ ratings: {(movie_rating_counts >= 10).sum():,}\")\n",
        "    print(f\"Movies with 100+ ratings: {(movie_rating_counts >= 100).sum():,}\")\n",
        "\n",
        "    # User activity\n",
        "    user_rating_counts = combined_data.groupby('userId')['rating'].count()\n",
        "    print(\"\\nUSER ACTIVITY:\")\n",
        "    print(f\"Users with 1 rating: {(user_rating_counts == 1).sum():,}\")\n",
        "    print(f\"Users with 10+ ratings: {(user_rating_counts >= 10).sum():,}\")\n",
        "    print(f\"Users with 100+ ratings: {(user_rating_counts >= 100).sum():,}\")\n",
        "\n",
        "# Run evaluation\n",
        "evaluate_recommendations()\n"
      ]
    },
    {
      "cell_type": "markdown",
      "metadata": {
        "id": "gUMxoW-lcvCg"
      },
      "source": [
        "## Save models"
      ]
    },
    {
      "cell_type": "code",
      "execution_count": 25,
      "metadata": {
        "id": "Zuhi40NncteW"
      },
      "outputs": [
        {
          "name": "stdout",
          "output_type": "stream",
          "text": [
            "Models have been saved successfully!\n"
          ]
        }
      ],
      "source": [
        "import pickle\n",
        "\n",
        "# Save Content-Based model\n",
        "with open(\"content_recommender.pkl\", \"wb\") as f:\n",
        "    pickle.dump(content_recommender, f)\n",
        "\n",
        "# Save Collaborative model\n",
        "with open(\"collab_recommender.pkl\", \"wb\") as f:\n",
        "    pickle.dump(collab_recommender, f)\n",
        "\n",
        "# Save Hybrid model\n",
        "with open(\"hybrid_recommender.pkl\", \"wb\") as f:\n",
        "    pickle.dump(hybrid_recommender, f)\n",
        "\n",
        "print(\"Models have been saved successfully!\")"
      ]
    },
    {
      "cell_type": "code",
      "execution_count": null,
      "metadata": {
        "id": "xr_ZPVyI8s9R"
      },
      "outputs": [],
      "source": []
    }
  ],
  "metadata": {
    "accelerator": "GPU",
    "colab": {
      "gpuType": "T4",
      "provenance": []
    },
    "kernelspec": {
      "display_name": "base",
      "language": "python",
      "name": "python3"
    },
    "language_info": {
      "codemirror_mode": {
        "name": "ipython",
        "version": 3
      },
      "file_extension": ".py",
      "mimetype": "text/x-python",
      "name": "python",
      "nbconvert_exporter": "python",
      "pygments_lexer": "ipython3",
      "version": "3.12.4"
    }
  },
  "nbformat": 4,
  "nbformat_minor": 0
}
